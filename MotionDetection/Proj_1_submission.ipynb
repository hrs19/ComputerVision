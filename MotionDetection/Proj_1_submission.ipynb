{
 "cells": [
  {
   "cell_type": "markdown",
   "id": "46bd3d71",
   "metadata": {},
   "source": [
    "# Computer Vision I\n",
    "## Motion Detection Using Simple Image Filtering"
   ]
  },
  {
   "cell_type": "markdown",
   "id": "8c239edf",
   "metadata": {},
   "source": [
    "### Importing Dependencies"
   ]
  },
  {
   "cell_type": "code",
   "execution_count": null,
   "id": "cd4eff88",
   "metadata": {},
   "outputs": [],
   "source": [
    "import os\n",
    "import cv2\n",
    "import time\n",
    "import numpy as np\n",
    "import math\n",
    "import scipy.signal as signal\n",
    "\n",
    "#/Course Work Northeastern/ComputerVision/Project/Project1/Code\n",
    "path = \"Data/RedChair\"\n",
    "# path = \"Data/Office\"\n",
    "\n",
    "dir_list = os.listdir(path)\n",
    "  \n"
   ]
  },
  {
   "cell_type": "markdown",
   "id": "55240679",
   "metadata": {},
   "source": [
    "### Function to generate 1D Derivative of Gaussian"
   ]
  },
  {
   "cell_type": "code",
   "execution_count": null,
   "id": "43f07ecf",
   "metadata": {},
   "outputs": [],
   "source": [
    "def Gauss_1D(tsigma):    \n",
    "    \"\"\"\n",
    "    Inputs:\n",
    "    - tsigma: The standard deviation of the Gaussian filter\n",
    "\n",
    "    Outputs:\n",
    "    - A 1-dimensional Gaussian filter of length 5*tsigma, with values normalized by the minimum value and divided by the \n",
    "    sum of the values.\n",
    "\n",
    "    Steps:\n",
    "    1. Compute the length of the filter.\n",
    "    2. Generate the Gaussian filter using the `gaussian` function.\n",
    "    3. Normalize the filter by dividing each value by the minimum value.\n",
    "    4. Print the normalization factor and the values of the normalized filter.\n",
    "    5. Return the normalized filter, divided by the sum of its values.\n",
    "    \n",
    "    \"\"\"\n",
    "    \n",
    "    length = int(5 * tsigma)    \n",
    "    gaussian = signal.gaussian(length, std=tsigma)\n",
    "    min_y = min(gaussian)\n",
    "    for i in range(length):\n",
    "        gaussian[i] = np.round(gaussian[i]/min_y)\n",
    "    print('(1/',sum(gaussian),')*',gaussian)\n",
    "    return gaussian/sum(gaussian)\n"
   ]
  },
  {
   "cell_type": "markdown",
   "id": "32964881",
   "metadata": {},
   "source": [
    "### Q1 Function to which calculates the differential and displays the masked image with threshold = 10"
   ]
  },
  {
   "cell_type": "code",
   "execution_count": null,
   "id": "9a0cab90",
   "metadata": {},
   "outputs": [],
   "source": [
    "def motion_det_10(folder='RedChair',filter_kernel = np.array([-1,0,1]),smoothening=False,derivative='derivative_filter'):\n",
    "    \"\"\"\n",
    "    This is a Python function named motion_det that detects motion in a sequence of images given the directory path to the \n",
    "    images, a filter kernel for computing the temporal derivative, and a few other optional parameters.\n",
    "\n",
    "    The function first sets the directory path to the images and lists all the images in the directory. If the smoothening \n",
    "    parameter is set to True, the function smoothes the images using either a box filter or a Gaussian filter based on the \n",
    "    smoothening parameter's value. If derivative is set to 'gauss', the function replaces the filter kernel with a 1D \n",
    "    Gaussian \n",
    "    filter.\n",
    "\n",
    "    The function then applies the filter kernel to each pixel in the buffer of the sequence of images, computes the \n",
    "    absolute value of the temporal derivative, and threshold the absolute value to create a binary mask. It writes the \n",
    "    resultant motion detection output to a directory with a postfix of '_result' appended to the original directory. The \n",
    "    function returns three lists of values: mask_append which contains the masked images, abs_derivative_append which \n",
    "    contains the absolute derivatives of the images, and threshold_val_li which contains the threshold values used for \n",
    "    each image.\n",
    "    \n",
    "    \"\"\"    \n",
    "\n",
    "    \n",
    "    folder = f'Data/{folder}'\n",
    "    dir_list = os.listdir(f'{folder}')\n",
    "    if smoothening:\n",
    "            smoothening = smoothening.split('_')\n",
    "            size = int(smoothening[1])\n",
    "            if smoothening[0]=='gauss':\n",
    "                ssigma = input('ssigma = ')       \n",
    "            print(smoothening)\n",
    "    if derivative=='gauss':\n",
    "            tsigma = float(input('tsigma = '))\n",
    "            filter_kernel = Gauss_1D(tsigma)\n",
    "            print('kernel=',filter_kernel)\n",
    "        \n",
    "    abs_derivative_append = []\n",
    "    mask_append = []\n",
    "    buffer = []\n",
    "    threshold_val_li = []\n",
    "    \n",
    "    threshold_value = 10 #default thresh value (assumed)\n",
    "    \n",
    "    for im in dir_list:\n",
    "        img = cv2.imread(f'{folder}/{im}')\n",
    "        gray = cv2.cvtColor(img, cv2.COLOR_BGR2GRAY)\n",
    "\n",
    "        if smoothening:\n",
    "            if smoothening[0]=='box':\n",
    "                gray = cv2.boxFilter(gray,ddepth=0,ksize=(size,size))\n",
    "                \n",
    "            elif smoothening[0]=='gauss':\n",
    "                \n",
    "                l = int(5*ssigma[0])\n",
    "                gray = cv2.GaussianBlur(gray, (0,0), int(ssigma),int(ssigma))\n",
    "                \n",
    "        buffer.append(gray)\n",
    "\n",
    "        if len(buffer) >= 3:\n",
    "            # Applying the filter to each pixel in the buffer\n",
    "            derivative_0 = cv2.filter2D(buffer[0], -1, filter_kernel)  # previous frame\n",
    "            derivative_1 = cv2.filter2D(buffer[2], -1, filter_kernel)  # next frame    \n",
    "                                \n",
    "            # Compute the absolute value of the temporal derivative\n",
    "            abs_derivative_x = cv2.absdiff(derivative_0, derivative_1)\n",
    "            \n",
    "            std_abs_der = np.std(abs_derivative_x)\n",
    "            threshold_value = 10\n",
    "                                \n",
    "            \n",
    "            threshold_val_li.append(threshold_value)\n",
    "            # Threshold the absolute value to create a binary mask            \n",
    "            _, mask = cv2.threshold(abs_derivative_x, threshold_value, 255, cv2.THRESH_BINARY)\n",
    "\n",
    "            masked_image = np.multiply(mask,buffer[1])\n",
    "            gray = np.hstack((buffer[1], masked_image,abs_derivative_x))\n",
    "            \n",
    "            abs_derivative_append.append(abs_derivative_x)\n",
    "            mask_append.append(masked_image)\n",
    "            try:\n",
    "                cv2.imwrite(f'E:/Course Work Northeastern/ComputerVision/Project/Project1/Code/{folder}_result/{im}_res.jpg', gray)\n",
    "            except Exception as ex:\n",
    "                print(ex)\n",
    "            \n",
    "            buffer.pop(0)\n",
    "            cv2.imshow(f'Gray',gray)\n",
    "            cv2.imshow('img',img)\n",
    "            k = cv2.waitKey(40) & 0xFF\n",
    "            if k==27 or k==ord('q') or k==ord('Q'):\n",
    "                cv2.destroyAllWindows()\n",
    "                break\n",
    "\n",
    "    cv2.destroyAllWindows()   \n",
    "    return mask_append,abs_derivative_append,threshold_val_li"
   ]
  },
  {
   "cell_type": "markdown",
   "id": "438d250e",
   "metadata": {},
   "source": [
    "### Q2 is based on function calls mentioned at the end"
   ]
  },
  {
   "cell_type": "markdown",
   "id": "c2ab39db",
   "metadata": {},
   "source": [
    "### Q3 Function to which calculates the differential and displays the masked image with dynamic thesholding"
   ]
  },
  {
   "cell_type": "code",
   "execution_count": null,
   "id": "94715836",
   "metadata": {},
   "outputs": [],
   "source": [
    "def motion_det(folder='RedChair',filter_kernel = np.array([-1,0,1]),smoothening=False,derivative='derivative_filter'):\n",
    "    \"\"\"\n",
    "    This is a Python function named motion_det that detects motion in a sequence of images given the directory path to the \n",
    "    images, a filter kernel for computing the temporal derivative, and a few other optional parameters.\n",
    "\n",
    "    The function first sets the directory path to the images and lists all the images in the directory. If the smoothening \n",
    "    parameter is set to True, the function smoothes the images using either a box filter or a Gaussian filter based on the \n",
    "    smoothening parameter's value. If derivative is set to 'gauss', the function replaces the filter kernel with a 1D \n",
    "    Gaussian \n",
    "    filter.\n",
    "\n",
    "    The function then applies the filter kernel to each pixel in the buffer of the sequence of images, computes the \n",
    "    absolute value of the temporal derivative, and threshold the absolute value to create a binary mask. It writes the \n",
    "    resultant motion detection output to a directory with a postfix of '_result' appended to the original directory. The \n",
    "    function returns three lists of values: mask_append which contains the masked images, abs_derivative_append which \n",
    "    contains the absolute derivatives of the images, and threshold_val_li which contains the threshold values used for \n",
    "    each image.\n",
    "    \n",
    "    \"\"\"    \n",
    "\n",
    "    \n",
    "    folder = f'Data/{folder}'\n",
    "    dir_list = os.listdir(f'{folder}')\n",
    "    if smoothening:\n",
    "            smoothening = smoothening.split('_')\n",
    "            size = int(smoothening[1])\n",
    "            if smoothening[0]=='gauss':\n",
    "                ssigma = input('ssigma = ')       \n",
    "            print(smoothening)\n",
    "    if derivative=='gauss':\n",
    "            tsigma = float(input('tsigma = '))\n",
    "            filter_kernel = Gauss_1D(tsigma)\n",
    "            print('kernel=',filter_kernel)\n",
    "        \n",
    "    abs_derivative_append = []\n",
    "    mask_append = []\n",
    "    buffer = []\n",
    "    threshold_val_li = []\n",
    "    \n",
    "    threshold_value = 10 #default thresh value (assumed)\n",
    "    \n",
    "    for im in dir_list:\n",
    "        img = cv2.imread(f'{folder}/{im}')\n",
    "        gray = cv2.cvtColor(img, cv2.COLOR_BGR2GRAY)\n",
    "\n",
    "        if smoothening:\n",
    "            if smoothening[0]=='box':\n",
    "                gray = cv2.boxFilter(gray,ddepth=0,ksize=(size,size))\n",
    "                \n",
    "            elif smoothening[0]=='gauss':\n",
    "                \n",
    "                l = int(5*ssigma[0])\n",
    "                gray = cv2.GaussianBlur(gray, (0,0), int(ssigma),int(ssigma))\n",
    "                \n",
    "        buffer.append(gray)\n",
    "\n",
    "        if len(buffer) >= 3:\n",
    "            # Applying the filter to each pixel in the buffer\n",
    "            derivative_0 = cv2.filter2D(buffer[0], -1, filter_kernel)  # previous frame\n",
    "            derivative_1 = cv2.filter2D(buffer[2], -1, filter_kernel)  # next frame    \n",
    "                                \n",
    "            # Compute the absolute value of the temporal derivative\n",
    "            abs_derivative_x = cv2.absdiff(derivative_0, derivative_1)\n",
    "            \n",
    "            std_abs_der = np.std(abs_derivative_x)\n",
    "            temp_max_int = 0\n",
    "            if derivative == 'derivative_filter':\n",
    "                if std_abs_der<1.0: \n",
    "                    temp_max_int = abs_derivative_x.max()\n",
    "                    threshold_value = temp_max_int*1.1\n",
    "                else:\n",
    "                    threshold_value = std_abs_der*5 #std_abs_der*3\n",
    "                    \n",
    "            else:\n",
    "                if std_abs_der<1.0: #1.5:\n",
    "                    temp_max_int = abs_derivative_x.max()\n",
    "                    threshold_value = temp_max_int*1.1\n",
    "\n",
    "                else:\n",
    "                    threshold_value = cv2.THRESH_OTSU #+ 10\n",
    "                                \n",
    "            \n",
    "            threshold_val_li.append(threshold_value)\n",
    "            # Threshold the absolute value to create a binary mask            \n",
    "            _, mask = cv2.threshold(abs_derivative_x, threshold_value, 255, cv2.THRESH_BINARY)\n",
    "\n",
    "            masked_image = np.multiply(mask,buffer[1])\n",
    "            gray = np.hstack((buffer[1], masked_image,abs_derivative_x))\n",
    "            \n",
    "            abs_derivative_append.append(abs_derivative_x)\n",
    "            mask_append.append(masked_image)\n",
    "            try:\n",
    "                cv2.imwrite(f'E:/Course Work Northeastern/ComputerVision/Project/Project1/Code/{folder}_result/{im}_res.jpg', gray)\n",
    "            except Exception as ex:\n",
    "                print(ex)\n",
    "            \n",
    "            buffer.pop(0)\n",
    "            cv2.imshow(f'Gray',gray)\n",
    "            cv2.imshow('img',img)\n",
    "            k = cv2.waitKey(40) & 0xFF\n",
    "            if k==27 or k==ord('q') or k==ord('Q'):\n",
    "                cv2.destroyAllWindows()\n",
    "                break\n",
    "\n",
    "    cv2.destroyAllWindows()   \n",
    "    return mask_append,abs_derivative_append,threshold_val_li"
   ]
  },
  {
   "cell_type": "markdown",
   "id": "28caf196",
   "metadata": {},
   "source": [
    "### Function Call for \"Office\" Data\n"
   ]
  },
  {
   "cell_type": "markdown",
   "id": "2491f9a3",
   "metadata": {},
   "source": [
    "#### Derivative Filter Kernel : 1/2[-1,0,1]\n"
   ]
  },
  {
   "cell_type": "code",
   "execution_count": null,
   "id": "8a7605da",
   "metadata": {},
   "outputs": [],
   "source": [
    "filter_kernel = np.array([-0.5,0,0.5])\n",
    "folder = 'Office'\n",
    "derivative = 'derivative_filter'\n",
    "mask_append,abs_derivative_append,threshold_val_li = motion_det_10(folder=folder,derivative=derivative,smoothening = False,filter_kernel=filter_kernel)"
   ]
  },
  {
   "cell_type": "markdown",
   "id": "9d1b400f",
   "metadata": {},
   "source": [
    "#### Gauss filter with user defined tsigma"
   ]
  },
  {
   "cell_type": "code",
   "execution_count": null,
   "id": "fdf1230e",
   "metadata": {},
   "outputs": [],
   "source": [
    "folder = 'Office'\n",
    "derivative = 'gauss'\n",
    "mask_append,abs_derivative_append,threshold_val_li = motion_det(folder=folder,derivative=derivative,smoothening = False)"
   ]
  },
  {
   "cell_type": "markdown",
   "id": "dbac3c36",
   "metadata": {},
   "source": [
    "#### 2D spatial smoothing "
   ]
  },
  {
   "cell_type": "code",
   "execution_count": null,
   "id": "e6e3e6b5",
   "metadata": {},
   "outputs": [],
   "source": [
    "filter_kernel = np.array([-0.5,0,0.5])\n",
    "folder = 'Office'\n",
    "smooth_filter = 'box_3'\n",
    "# smooth_filter = 'box_5'\n",
    "# smooth_filter = 'gauss_5'\n",
    "# derivative = 'derivative_filter'\n",
    "derivative = 'gauss'\n",
    "mask_append,abs_derivative_append,threshold_val_li = motion_det_10(folder=folder,derivative=derivative,smoothening = smooth_filter)"
   ]
  },
  {
   "cell_type": "markdown",
   "id": "5ef8634d",
   "metadata": {},
   "source": [
    "### Function Call for \"RedChair\" Data\n"
   ]
  },
  {
   "cell_type": "markdown",
   "id": "48df2d9f",
   "metadata": {},
   "source": [
    "#### Derivative Filter Kernel : 1/2[-1,0,1]\n"
   ]
  },
  {
   "cell_type": "code",
   "execution_count": null,
   "id": "18075b57",
   "metadata": {},
   "outputs": [],
   "source": [
    "filter_kernel = np.array([-0.5,0,0.5])\n",
    "folder = 'RedChair'\n",
    "derivative = 'derivative_filter'\n",
    "mask_append,abs_derivative_append,threshold_val_li = motion_det(folder=folder,derivative=derivative,smoothening = False,filter_kernel=filter_kernel)"
   ]
  },
  {
   "cell_type": "markdown",
   "id": "0d7f2760",
   "metadata": {},
   "source": [
    "#### Gauss filter with user defined tsigma"
   ]
  },
  {
   "cell_type": "code",
   "execution_count": null,
   "id": "66977cde",
   "metadata": {},
   "outputs": [],
   "source": [
    "folder = 'RedChair'\n",
    "derivative = 'gauss'\n",
    "mask_append,abs_derivative_append,threshold_val_li = motion_det(folder=folder,derivative=derivative,smoothening = False)"
   ]
  },
  {
   "cell_type": "markdown",
   "id": "8fa40137",
   "metadata": {},
   "source": [
    "#### 2D spatial smoothing "
   ]
  },
  {
   "cell_type": "code",
   "execution_count": null,
   "id": "5e2716f5",
   "metadata": {},
   "outputs": [],
   "source": [
    "filter_kernel = np.array([-0.5,0,0.5])\n",
    "folder = 'RedChair'\n",
    "smooth_filter = 'box_3'\n",
    "# smooth_filter = 'box_5'\n",
    "# smooth_filter = 'gauss_5'\n",
    "derivative = 'derivative_filter'\n",
    "# derivative = 'gauss'\n",
    "mask_append,abs_derivative_append,threshold_val_li = motion_det_10(folder=folder,derivative=derivative,smoothening = smooth_filter)"
   ]
  },
  {
   "cell_type": "code",
   "execution_count": null,
   "id": "e6e010b4",
   "metadata": {},
   "outputs": [],
   "source": []
  }
 ],
 "metadata": {
  "kernelspec": {
   "display_name": "Python 3 (ipykernel)",
   "language": "python",
   "name": "python3"
  },
  "language_info": {
   "codemirror_mode": {
    "name": "ipython",
    "version": 3
   },
   "file_extension": ".py",
   "mimetype": "text/x-python",
   "name": "python",
   "nbconvert_exporter": "python",
   "pygments_lexer": "ipython3",
   "version": "3.9.12"
  }
 },
 "nbformat": 4,
 "nbformat_minor": 5
}
